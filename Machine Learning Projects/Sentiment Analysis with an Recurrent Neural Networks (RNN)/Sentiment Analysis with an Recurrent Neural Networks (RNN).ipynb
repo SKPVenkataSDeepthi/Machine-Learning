{
 "cells": [
  {
   "cell_type": "code",
   "execution_count": 1,
   "id": "d2c2213a",
   "metadata": {},
   "outputs": [],
   "source": [
    "from tensorflow.keras.layers import SimpleRNN, LSTM, GRU, Bidirectional, Dense, Embedding\n",
    "from tensorflow.keras.datasets import imdb\n",
    "from tensorflow.keras.models import Sequential\n",
    "import numpy as np\n"
   ]
  },
  {
   "cell_type": "code",
   "execution_count": 2,
   "id": "fec7ffe7",
   "metadata": {},
   "outputs": [
    {
     "name": "stdout",
     "output_type": "stream",
     "text": [
      "[1, 14, 22, 16, 43, 530, 973, 1622, 1385, 65, 458, 4468, 66, 3941, 4, 173, 36, 256, 5, 25, 100, 43, 838, 112, 50, 670, 2, 9, 35, 480, 284, 5, 150, 4, 172, 112, 167, 2, 336, 385, 39, 4, 172, 4536, 1111, 17, 546, 38, 13, 447, 4, 192, 50, 16, 6, 147, 2025, 19, 14, 22, 4, 1920, 4613, 469, 4, 22, 71, 87, 12, 16, 43, 530, 38, 76, 15, 13, 1247, 4, 22, 17, 515, 17, 12, 16, 626, 18, 2, 5, 62, 386, 12, 8, 316, 8, 106, 5, 4, 2223, 2, 16, 480, 66, 3785, 33, 4, 130, 12, 16, 38, 619, 5, 25, 124, 51, 36, 135, 48, 25, 1415, 33, 6, 22, 12, 215, 28, 77, 52, 5, 14, 407, 16, 82, 2, 8, 4, 107, 117, 2, 15, 256, 4, 2, 7, 3766, 5, 723, 36, 71, 43, 530, 476, 26, 400, 317, 46, 7, 4, 2, 1029, 13, 104, 88, 4, 381, 15, 297, 98, 32, 2071, 56, 26, 141, 6, 194, 2, 18, 4, 226, 22, 21, 134, 476, 26, 480, 5, 144, 30, 2, 18, 51, 36, 28, 224, 92, 25, 104, 4, 226, 65, 16, 38, 1334, 88, 12, 16, 283, 5, 16, 4472, 113, 103, 32, 15, 16, 2, 19, 178, 32]\n"
     ]
    }
   ],
   "source": [
    "# Getting reviews with words that come under 5000\n",
    "# most occurring words in the entire\n",
    "# corpus of textual review data\n",
    "vocab_size = 5000\n",
    "(x_train, y_train), (x_test, y_test) = imdb.load_data(num_words=vocab_size)\n",
    "\n",
    "print(x_train[0])\n"
   ]
  },
  {
   "cell_type": "code",
   "execution_count": 3,
   "id": "837e7621",
   "metadata": {},
   "outputs": [
    {
     "name": "stdout",
     "output_type": "stream",
     "text": [
      "['the', 'as', 'you', 'with', 'out', 'themselves', 'powerful', 'lets', 'loves', 'their', 'becomes', 'reaching', 'had', 'journalist', 'of', 'lot', 'from', 'anyone', 'to', 'have', 'after', 'out', 'atmosphere', 'never', 'more', 'room', 'and', 'it', 'so', 'heart', 'shows', 'to', 'years', 'of', 'every', 'never', 'going', 'and', 'help', 'moments', 'or', 'of', 'every', 'chest', 'visual', 'movie', 'except', 'her', 'was', 'several', 'of', 'enough', 'more', 'with', 'is', 'now', 'current', 'film', 'as', 'you', 'of', 'mine', 'potentially', 'unfortunately', 'of', 'you', 'than', 'him', 'that', 'with', 'out', 'themselves', 'her', 'get', 'for', 'was', 'camp', 'of', 'you', 'movie', 'sometimes', 'movie', 'that', 'with', 'scary', 'but', 'and', 'to', 'story', 'wonderful', 'that', 'in', 'seeing', 'in', 'character', 'to', 'of', '70s', 'and', 'with', 'heart', 'had', 'shadows', 'they', 'of', 'here', 'that', 'with', 'her', 'serious', 'to', 'have', 'does', 'when', 'from', 'why', 'what', 'have', 'critics', 'they', 'is', 'you', 'that', \"isn't\", 'one', 'will', 'very', 'to', 'as', 'itself', 'with', 'other', 'and', 'in', 'of', 'seen', 'over', 'and', 'for', 'anyone', 'of', 'and', 'br', \"show's\", 'to', 'whether', 'from', 'than', 'out', 'themselves', 'history', 'he', 'name', 'half', 'some', 'br', 'of', 'and', 'odd', 'was', 'two', 'most', 'of', 'mean', 'for', '1', 'any', 'an', 'boat', 'she', 'he', 'should', 'is', 'thought', 'and', 'but', 'of', 'script', 'you', 'not', 'while', 'history', 'he', 'heart', 'to', 'real', 'at', 'and', 'but', 'when', 'from', 'one', 'bit', 'then', 'have', 'two', 'of', 'script', 'their', 'with', 'her', 'nobody', 'most', 'that', 'with', \"wasn't\", 'to', 'with', 'armed', 'acting', 'watch', 'an', 'for', 'with', 'and', 'film', 'want', 'an']\n"
     ]
    }
   ],
   "source": [
    "# Getting all the words from word_index dictionary\n",
    "word_idx = imdb.get_word_index()\n",
    "\n",
    "# Originally the index number of a value and not a key,\n",
    "# hence converting the index as key and the words as values\n",
    "word_idx = {i: word for word, i in word_idx.items()}\n",
    "\n",
    "# again printing the review\n",
    "print([word_idx[i] for i in x_train[0]])\n"
   ]
  },
  {
   "cell_type": "code",
   "execution_count": 4,
   "id": "d6920c48",
   "metadata": {},
   "outputs": [
    {
     "name": "stdout",
     "output_type": "stream",
     "text": [
      "Max length of a review::  2697\n",
      "Min length of a review::  70\n"
     ]
    }
   ],
   "source": [
    "# Get the minimum and the maximum length of reviews\n",
    "print(\"Max length of a review:: \", len(max((x_train+x_test), key=len)))\n",
    "print(\"Min length of a review:: \", len(min((x_train+x_test), key=len)))\n"
   ]
  },
  {
   "cell_type": "code",
   "execution_count": 5,
   "id": "1375c327",
   "metadata": {},
   "outputs": [],
   "source": [
    "from tensorflow.keras.preprocessing import sequence\n",
    "\n",
    "# Keeping a fixed length of all reviews to max 400 words\n",
    "max_words = 400\n",
    "\n",
    "x_train = sequence.pad_sequences(x_train, maxlen=max_words)\n",
    "x_test = sequence.pad_sequences(x_test, maxlen=max_words)\n",
    "\n",
    "x_valid, y_valid = x_train[:64], y_train[:64]\n",
    "x_train_, y_train_ = x_train[64:], y_train[64:]\n"
   ]
  },
  {
   "cell_type": "code",
   "execution_count": 6,
   "id": "35a0a175",
   "metadata": {},
   "outputs": [
    {
     "name": "stdout",
     "output_type": "stream",
     "text": [
      "Model: \"GRU_Model\"\n",
      "_________________________________________________________________\n",
      " Layer (type)                Output Shape              Param #   \n",
      "=================================================================\n",
      " embedding (Embedding)       (None, 400, 100)          1000000   \n",
      "                                                                 \n",
      " gru (GRU)                   (None, 128)               88320     \n",
      "                                                                 \n",
      " dense (Dense)               (None, 1)                 129       \n",
      "                                                                 \n",
      "=================================================================\n",
      "Total params: 1088449 (4.15 MB)\n",
      "Trainable params: 1088449 (4.15 MB)\n",
      "Non-trainable params: 0 (0.00 Byte)\n",
      "_________________________________________________________________\n",
      "None\n",
      "Epoch 1/5\n",
      "390/390 [==============================] - 89s 227ms/step - loss: 0.4634 - accuracy: 0.7730 - val_loss: 0.4734 - val_accuracy: 0.7812\n",
      "Epoch 2/5\n",
      "390/390 [==============================] - 93s 239ms/step - loss: 0.2920 - accuracy: 0.8806 - val_loss: 0.3667 - val_accuracy: 0.8594\n",
      "Epoch 3/5\n",
      "390/390 [==============================] - 103s 265ms/step - loss: 0.2150 - accuracy: 0.9153 - val_loss: 0.2119 - val_accuracy: 0.9531\n",
      "Epoch 4/5\n",
      "390/390 [==============================] - 100s 256ms/step - loss: 0.1566 - accuracy: 0.9425 - val_loss: 0.3109 - val_accuracy: 0.9062\n",
      "Epoch 5/5\n",
      "390/390 [==============================] - 103s 265ms/step - loss: 0.1151 - accuracy: 0.9591 - val_loss: 0.4540 - val_accuracy: 0.8594\n",
      "\n",
      "GRU model Score--->  [0.3867301940917969, 0.8790799975395203]\n"
     ]
    }
   ],
   "source": [
    "# Defining the vocabulary size and embedding length\n",
    "vocab_size = 10000  \n",
    "embd_len = 100 \n",
    "\n",
    "# Defining GRU model\n",
    "gru_model = Sequential(name=\"GRU_Model\")\n",
    "gru_model.add(Embedding(vocab_size,\n",
    "\t\t\t\t\t\tembd_len,\n",
    "\t\t\t\t\t\tinput_length=max_words))\n",
    "gru_model.add(GRU(128,\n",
    "\t\t\t\tactivation='tanh',\n",
    "\t\t\t\treturn_sequences=False))\n",
    "gru_model.add(Dense(1, activation='sigmoid'))\n",
    "\n",
    "# Printing the Summary\n",
    "print(gru_model.summary())\n",
    "\n",
    "# Compiling the model\n",
    "gru_model.compile(\n",
    "\tloss=\"binary_crossentropy\",\n",
    "\toptimizer='adam',\n",
    "\tmetrics=['accuracy']\n",
    ")\n",
    "\n",
    "# Training the GRU model\n",
    "history2 = gru_model.fit(x_train_, y_train_,\n",
    "\t\t\t\t\t\tbatch_size=64,\n",
    "\t\t\t\t\t\tepochs=5,\n",
    "\t\t\t\t\t\tverbose=1,\n",
    "\t\t\t\t\t\tvalidation_data=(x_valid, y_valid))\n",
    "\n",
    "# Printing model score on test data\n",
    "print()\n",
    "print(\"GRU model Score---> \", gru_model.evaluate(x_test, y_test, verbose=0))\n"
   ]
  },
  {
   "cell_type": "code",
   "execution_count": 7,
   "id": "ad2b28ef",
   "metadata": {},
   "outputs": [
    {
     "name": "stdout",
     "output_type": "stream",
     "text": [
      "Requirement already satisfied: textblob in ./anaconda3/lib/python3.11/site-packages (0.18.0.post0)\n",
      "Requirement already satisfied: nltk>=3.8 in ./anaconda3/lib/python3.11/site-packages (from textblob) (3.8.1)\n",
      "Requirement already satisfied: click in ./anaconda3/lib/python3.11/site-packages (from nltk>=3.8->textblob) (8.0.4)\n",
      "Requirement already satisfied: joblib in ./anaconda3/lib/python3.11/site-packages (from nltk>=3.8->textblob) (1.2.0)\n",
      "Requirement already satisfied: regex>=2021.8.3 in ./anaconda3/lib/python3.11/site-packages (from nltk>=3.8->textblob) (2022.7.9)\n",
      "Requirement already satisfied: tqdm in ./anaconda3/lib/python3.11/site-packages (from nltk>=3.8->textblob) (4.65.0)\n",
      "Note: you may need to restart the kernel to use updated packages.\n"
     ]
    }
   ],
   "source": [
    "pip install textblob\n"
   ]
  },
  {
   "cell_type": "code",
   "execution_count": 8,
   "id": "e0880ea4",
   "metadata": {},
   "outputs": [
    {
     "name": "stderr",
     "output_type": "stream",
     "text": [
      "[nltk_data] Downloading package punkt to\n",
      "[nltk_data]     /Users/venkatasrideepthisrikotapeetamabaram/nltk_data.\n",
      "[nltk_data]     ..\n",
      "[nltk_data]   Package punkt is already up-to-date!\n"
     ]
    },
    {
     "data": {
      "text/plain": [
       "True"
      ]
     },
     "execution_count": 8,
     "metadata": {},
     "output_type": "execute_result"
    }
   ],
   "source": [
    "import nltk\n",
    "nltk.download('punkt')"
   ]
  },
  {
   "cell_type": "code",
   "execution_count": 9,
   "id": "de012d95",
   "metadata": {},
   "outputs": [
    {
     "name": "stdout",
     "output_type": "stream",
     "text": [
      "Enter movie title: Coco\n",
      "Enter your review: \"Coco\" is visually stunning and heartfelt but somewhat predictable in plot\n",
      "Sentiment: Positive\n",
      "Movie Information:\n",
      "Title: Coco\n",
      "Director: Lee Unkrich, Adrian Molina\n",
      "Year: 2017\n",
      "Genre: Animation, Adventure, Drama\n",
      "Plot: Aspiring musician Miguel, confronted with his family's ancestral ban on music, enters the Land of the Dead to find his great-great-grandfather, a legendary singer.\n",
      "Actors: Anthony Gonzalez, Gael García Bernal, Benjamin Bratt\n",
      "IMDb Rating: 8.4\n"
     ]
    }
   ],
   "source": [
    "import requests\n",
    "from textblob import TextBlob\n",
    "\n",
    "def get_movie_sentiment_and_info(review_text, movie_title, api_key):\n",
    "    # Analyze the sentiment of the review\n",
    "    sentiment = analyze_sentiment(review_text)\n",
    "    \n",
    "    # Fetch movie information\n",
    "    movie_info = fetch_movie_info(movie_title, api_key)\n",
    "    \n",
    "    return sentiment, movie_info\n",
    "\n",
    "def analyze_sentiment(review_text):\n",
    "    # Using TextBlob to perform sentiment analysis\n",
    "    analysis = TextBlob(review_text)\n",
    "    # Determine if sentiment is positive, neutral, or negative\n",
    "    if analysis.sentiment.polarity > 0:\n",
    "        return \"Positive\"\n",
    "    elif analysis.sentiment.polarity == 0:\n",
    "        return \"Neutral\"\n",
    "    else:\n",
    "        return \"Negative\"\n",
    "\n",
    "def fetch_movie_info(movie_title, api_key):\n",
    "    # Define the base URL for the OMDb API\n",
    "    url = f\"http://www.omdbapi.com/?t={movie_title}&apikey={api_key}\"\n",
    "    \n",
    "    try:\n",
    "        # Send a request to the OMDb API\n",
    "        response = requests.get(url)\n",
    "        \n",
    "        # Check if the response was successful\n",
    "        if response.status_code == 200:\n",
    "            data = response.json()\n",
    "            if data['Response'] == 'True':\n",
    "                # Extract relevant movie information\n",
    "                movie_info = {\n",
    "                    \"Title\": data.get(\"Title\"),\n",
    "                    \"Director\": data.get(\"Director\"),\n",
    "                    \"Year\": data.get(\"Year\"),\n",
    "                    \"Genre\": data.get(\"Genre\"),\n",
    "                    \"Plot\": data.get(\"Plot\"),\n",
    "                    \"Actors\": data.get(\"Actors\"),\n",
    "                    \"IMDb Rating\": data.get(\"imdbRating\"),\n",
    "                }\n",
    "            else:\n",
    "                movie_info = {\"Error\": data.get(\"Error\", \"Movie not found!\")}\n",
    "        else:\n",
    "            movie_info = {\"Error\": f\"Error {response.status_code}: Unable to fetch data!\"}\n",
    "    except requests.exceptions.RequestException as e:\n",
    "        movie_info = {\"Error\": f\"Request failed: {str(e)}\"}\n",
    "    \n",
    "    return movie_info\n",
    "\n",
    "def main():\n",
    "    movie_title = input(\"Enter movie title: \")\n",
    "    review_text = input(\"Enter your review: \")\n",
    "    api_key = \"5134ecb8\"  \n",
    "    sentiment, movie_info = get_movie_sentiment_and_info(review_text, movie_title, api_key)\n",
    "    \n",
    "    print(f\"Sentiment: {sentiment}\")\n",
    "    print(\"Movie Information:\")\n",
    "    if \"Error\" in movie_info:\n",
    "        print(movie_info[\"Error\"])\n",
    "    else:\n",
    "        for key, value in movie_info.items():\n",
    "            print(f\"{key}: {value}\")\n",
    "\n",
    "if __name__ == \"__main__\":\n",
    "    main()\n"
   ]
  },
  {
   "cell_type": "markdown",
   "id": "06f22e82",
   "metadata": {},
   "source": [
    "Reference:\n",
    "https://www.geeksforgeeks.org/sentiment-analysis-with-an-recurrent-neural-networks-rnn/?ref=lbp"
   ]
  },
  {
   "cell_type": "code",
   "execution_count": null,
   "id": "d17bf76a",
   "metadata": {},
   "outputs": [],
   "source": []
  }
 ],
 "metadata": {
  "kernelspec": {
   "display_name": "Python 3 (ipykernel)",
   "language": "python",
   "name": "python3"
  },
  "language_info": {
   "codemirror_mode": {
    "name": "ipython",
    "version": 3
   },
   "file_extension": ".py",
   "mimetype": "text/x-python",
   "name": "python",
   "nbconvert_exporter": "python",
   "pygments_lexer": "ipython3",
   "version": "3.11.4"
  }
 },
 "nbformat": 4,
 "nbformat_minor": 5
}
